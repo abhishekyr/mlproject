{
  "nbformat": 4,
  "nbformat_minor": 0,
  "metadata": {
    "colab": {
      "name": "Untitled10.ipynb",
      "provenance": []
    },
    "kernelspec": {
      "name": "python3",
      "display_name": "Python 3"
    }
  },
  "cells": [
    {
      "cell_type": "code",
      "metadata": {
        "id": "Cu9IoC94dKow",
        "outputId": "d6271939-9970-467e-cf9b-523b50dc2819",
        "colab": {
          "base_uri": "https://localhost:8080/"
        }
      },
      "source": [
        "pip install python_speech_features\n"
      ],
      "execution_count": null,
      "outputs": [
        {
          "output_type": "stream",
          "text": [
            "Requirement already satisfied: python_speech_features in /usr/local/lib/python3.6/dist-packages (0.6)\n"
          ],
          "name": "stdout"
        }
      ]
    },
    {
      "cell_type": "code",
      "metadata": {
        "id": "1s6ubFEaZNOa"
      },
      "source": [
        "from python_speech_features import mfcc\n",
        "import scipy.io.wavfile as wav\n",
        "import numpy as np"
      ],
      "execution_count": null,
      "outputs": []
    },
    {
      "cell_type": "code",
      "metadata": {
        "id": "xqfDk8v8Z2Yl"
      },
      "source": [
        "from tempfile import TemporaryFile"
      ],
      "execution_count": null,
      "outputs": []
    },
    {
      "cell_type": "code",
      "metadata": {
        "id": "_2g9jcEwdWma"
      },
      "source": [
        "import os\n",
        "import pickle\n",
        "import random\n",
        "import operator\n",
        "\n",
        "import math"
      ],
      "execution_count": null,
      "outputs": []
    },
    {
      "cell_type": "code",
      "metadata": {
        "id": "an7tzSdjdcQh"
      },
      "source": [
        "# function to get the distance between feature vecotrs and find neighbors\n",
        "def getNeighbors(trainingSet, instance, k):\n",
        "    distances = []\n",
        "    for x in range (len(trainingSet)):\n",
        "        dist = distance(trainingSet[x], instance, k) + distance(instance, trainingSet[x], k)\n",
        "        distances.append((trainingSet[x][2], dist))\n",
        "\n",
        "    distances.sort(key=operator.itemgetter(1))\n",
        "    neighbors = []\n",
        "    for x in range(k):\n",
        "        neighbors.append(distances[x][0])\n",
        "    \n",
        "    return neighbors"
      ],
      "execution_count": null,
      "outputs": []
    },
    {
      "cell_type": "code",
      "metadata": {
        "id": "nwC_pAWldlkY"
      },
      "source": [
        "# identify the class of the instance\n",
        "def nearestClass(neighbors):\n",
        "    classVote = {}\n",
        "\n",
        "    for x in range(len(neighbors)):\n",
        "        response = neighbors[x]\n",
        "        if response in classVote:\n",
        "            classVote[response] += 1\n",
        "        else:\n",
        "            classVote[response] = 1\n",
        "\n",
        "    sorter = sorted(classVote.items(), key = operator.itemgetter(1), reverse=True)\n",
        "\n",
        "    return sorter[0][0]"
      ],
      "execution_count": null,
      "outputs": []
    },
    {
      "cell_type": "code",
      "metadata": {
        "id": "TRm9n51cduMV"
      },
      "source": [
        "# function to evaluate the model\n",
        "def getAccuracy(testSet, prediction):\n",
        "    correct = 0\n",
        "    for x in range(len(testSet)):\n",
        "        if testSet[x][-1] == predictions[x]:\n",
        "            correct += 1\n",
        "    \n",
        "    return (1.0 * correct) / len(testSet)"
      ],
      "execution_count": null,
      "outputs": []
    },
    {
      "cell_type": "code",
      "metadata": {
        "id": "jV4DbzWZd2c6",
        "outputId": "152b98cd-f304-4a15-8e58-dcd0448ffb62",
        "colab": {
          "base_uri": "https://localhost:8080/",
          "height": 253
        }
      },
      "source": [
        "# directory that holds the wav files\n",
        "directory = \"genres_original/\"\n",
        "\n",
        "# binary file where we will collect all the features extracted using mfcc (Mel Frequency Cepstral Coefficients)\n",
        "f = open(\"my.dat\", 'wb')\n",
        "\n",
        "i = 0\n",
        "\n",
        "for folder in os.listdir(directory):\n",
        "    i += 1\n",
        "    if i == 11:\n",
        "        break\n",
        "    for file in os.listdir(directory+folder):        \n",
        "        try:\n",
        "            (rate, sig) = wav.read(directory+folder+\"/\"+file)\n",
        "            mfcc_feat = mfcc(sig, rate, winlen=0.020, appendEnergy=False)\n",
        "            covariance = np.cov(np.matrix.transpose(mfcc_feat))\n",
        "            mean_matrix = mfcc_feat.mean(0)\n",
        "            feature = (mean_matrix, covariance, i)\n",
        "            pickle.dump(feature, f)\n",
        "        except Exception as e:\n",
        "            print('Got an exception: ', e, ' in folder: ', folder, ' filename: ', file)        \n",
        "\n",
        "f.close()"
      ],
      "execution_count": null,
      "outputs": [
        {
          "output_type": "error",
          "ename": "FileNotFoundError",
          "evalue": "ignored",
          "traceback": [
            "\u001b[0;31m---------------------------------------------------------------------------\u001b[0m",
            "\u001b[0;31mFileNotFoundError\u001b[0m                         Traceback (most recent call last)",
            "\u001b[0;32m<ipython-input-38-11c065e59721>\u001b[0m in \u001b[0;36m<module>\u001b[0;34m()\u001b[0m\n\u001b[1;32m      7\u001b[0m \u001b[0mi\u001b[0m \u001b[0;34m=\u001b[0m \u001b[0;36m0\u001b[0m\u001b[0;34m\u001b[0m\u001b[0;34m\u001b[0m\u001b[0m\n\u001b[1;32m      8\u001b[0m \u001b[0;34m\u001b[0m\u001b[0m\n\u001b[0;32m----> 9\u001b[0;31m \u001b[0;32mfor\u001b[0m \u001b[0mfolder\u001b[0m \u001b[0;32min\u001b[0m \u001b[0mos\u001b[0m\u001b[0;34m.\u001b[0m\u001b[0mlistdir\u001b[0m\u001b[0;34m(\u001b[0m\u001b[0mdirectory\u001b[0m\u001b[0;34m)\u001b[0m\u001b[0;34m:\u001b[0m\u001b[0;34m\u001b[0m\u001b[0;34m\u001b[0m\u001b[0m\n\u001b[0m\u001b[1;32m     10\u001b[0m     \u001b[0mi\u001b[0m \u001b[0;34m+=\u001b[0m \u001b[0;36m1\u001b[0m\u001b[0;34m\u001b[0m\u001b[0;34m\u001b[0m\u001b[0m\n\u001b[1;32m     11\u001b[0m     \u001b[0;32mif\u001b[0m \u001b[0mi\u001b[0m \u001b[0;34m==\u001b[0m \u001b[0;36m11\u001b[0m\u001b[0;34m:\u001b[0m\u001b[0;34m\u001b[0m\u001b[0;34m\u001b[0m\u001b[0m\n",
            "\u001b[0;31mFileNotFoundError\u001b[0m: [Errno 2] No such file or directory: '/Users/Pramodh/Desktop/resume/archive/Data/genres_original/'"
          ]
        }
      ]
    },
    {
      "cell_type": "code",
      "metadata": {
        "id": "xj5-VfvVd94x"
      },
      "source": [
        "dataset = []\n",
        "def loadDataset(filename, split,trSet, teSet):\n",
        "    with open(\"my.dat\", 'rb') as f:\n",
        "        while True:\n",
        "            try:\n",
        "                dataset.append(pickle.load(f))\n",
        "            except EOFError:\n",
        "                f.close()\n",
        "                break\n",
        "\n",
        "    for x in range(len(dataset)):\n",
        "        if random.random() < split:\n",
        "            trSet.append(dataset[x])\n",
        "        else:\n",
        "            teSet.append(dataset[x])\n",
        "\n",
        "trainingSet = []\n",
        "testSet = []"
      ],
      "execution_count": null,
      "outputs": []
    },
    {
      "cell_type": "code",
      "metadata": {
        "id": "lbVniUACs7A_"
      },
      "source": [
        "loadDataset(\"my.dat\", 0.66, trainingSet, testSet)"
      ],
      "execution_count": null,
      "outputs": []
    }
  ]
}